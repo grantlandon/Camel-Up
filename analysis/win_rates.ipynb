{
 "cells": [
  {
   "cell_type": "code",
   "execution_count": 2,
   "metadata": {},
   "outputs": [
    {
     "name": "stdout",
     "output_type": "stream",
     "text": [
      "\n",
      "=== Random Tournament ===\n",
      "             Avg Coins  Games Played     Win Count  Win %\n",
      "RandomAgent      12.13         40000  38730.333333  96.83\n",
      "\n",
      "=== Greedy Tournament ===\n",
      "             Avg Coins  Games Played   Win Count  Win %\n",
      "GreedyAgent      23.66           400  395.333333  98.83\n",
      "\n",
      "=== Mixed Tournament ===\n",
      "               Avg Coins  Games Played  Win Count  Win %\n",
      "GreedyAgent        30.73           240      143.0  59.58\n",
      "RoundBetAgent      26.02           240       72.5  30.21\n",
      "GameBetAgent       21.00           240       24.5  10.21\n",
      "MCTSAgent           7.95           240        NaN    NaN\n",
      "\n",
      "=== FixedOrder Tournament ===\n",
      "               Avg Coins  Games Played  Win Count  Win %\n",
      "GreedyAgent        35.60           300      261.5  87.17\n",
      "RoundBetAgent      22.10           300       33.5  11.17\n",
      "MCTSAgent           9.83           300        5.0   1.67\n",
      "GameBetAgent       17.52           300        NaN    NaN\n"
     ]
    }
   ],
   "source": [
    "import pandas as pd\n",
    "from collections import defaultdict\n",
    "\n",
    "# --- Define each CSV and its label ---\n",
    "simulations = {\n",
    "    \"Random\": \"four_player_tournament_pt2/random_4player_game_logs_pt2.csv\",\n",
    "    \"Greedy\": \"four_player_tournament_pt2/greedy_4player_game_logs_pt2.csv\",\n",
    "    \"Mixed\": \"four_player_tournament_pt2/mixed_4player_game_logs_pt2.csv\",\n",
    "    \"FixedOrder\": \"four_player_tournament_pt2/fixed_order_4player_game_logs_pt2.csv\"\n",
    "}\n",
    "\n",
    "# --- Analyze each file independently ---\n",
    "def analyze_file(label, filepath):\n",
    "    print(f\"\\n=== {label} Tournament ===\")\n",
    "    df = pd.read_csv(filepath)\n",
    "\n",
    "    # Get final row of each game\n",
    "    finals = df.sort_values(\"round_id\").groupby(\"game_id\").tail(1)\n",
    "\n",
    "    coin_data = []\n",
    "    win_counts = defaultdict(int)\n",
    "    games_played = defaultdict(int)\n",
    "\n",
    "    for _, row in finals.iterrows():\n",
    "        winners = row[\"winners\"].split(\", \")\n",
    "        for i in range(4):\n",
    "            bot = row[f\"player_{i}_name\"]\n",
    "            coins = row[f\"player_{i}_final\"]\n",
    "            coin_data.append((bot, coins))\n",
    "            games_played[bot] += 1\n",
    "            if bot in winners:\n",
    "                win_counts[bot] += 1 / len(winners)  # fractional credit if tie\n",
    "\n",
    "    # Convert to DataFrame\n",
    "    coin_df = pd.DataFrame(coin_data, columns=[\"Bot\", \"Coins\"])\n",
    "    coin_avg = coin_df.groupby(\"Bot\")[\"Coins\"].mean().round(2)\n",
    "\n",
    "    # Build summary table\n",
    "    summary_df = pd.DataFrame({\n",
    "        \"Avg Coins\": coin_avg,\n",
    "        \"Games Played\": pd.Series(games_played),\n",
    "        \"Win Count\": pd.Series(win_counts),\n",
    "    })\n",
    "    summary_df[\"Win %\"] = (summary_df[\"Win Count\"] / summary_df[\"Games Played\"] * 100).round(2)\n",
    "    summary_df = summary_df.sort_values(\"Win %\", ascending=False)\n",
    "\n",
    "    print(summary_df)\n",
    "    summary_df.to_csv(f\"four_player_tournament_pt2/{label.lower()}_bot_performance_summary.csv\")\n",
    "\n",
    "# --- Run all analyses ---\n",
    "for label, path in simulations.items():\n",
    "    analyze_file(label, path)\n"
   ]
  }
 ],
 "metadata": {
  "kernelspec": {
   "display_name": "Python 3",
   "language": "python",
   "name": "python3"
  },
  "language_info": {
   "codemirror_mode": {
    "name": "ipython",
    "version": 3
   },
   "file_extension": ".py",
   "mimetype": "text/x-python",
   "name": "python",
   "nbconvert_exporter": "python",
   "pygments_lexer": "ipython3",
   "version": "3.10.6"
  }
 },
 "nbformat": 4,
 "nbformat_minor": 2
}
